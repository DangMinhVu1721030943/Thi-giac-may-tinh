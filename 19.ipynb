{
 "cells": [
  {
   "cell_type": "code",
   "execution_count": 3,
   "id": "889cca5b-bab2-468b-ac3a-80bb5657b0ba",
   "metadata": {},
   "outputs": [],
   "source": [
    "#!pip install opencv-python"
   ]
  },
  {
   "cell_type": "code",
   "execution_count": 9,
   "id": "36134d4a-04ce-4da1-bf9b-02d2e3653a8b",
   "metadata": {},
   "outputs": [],
   "source": [
    "def display(title, img):\n",
    "    cv2.imshow(title, img)\n",
    "    # Chờ một khoảng thời gian\n",
    "    cv2.waitKey(0)\n",
    "    # Đóng window\n",
    "    cv2.destroyWindow(title)\n"
   ]
  },
  {
   "cell_type": "code",
   "execution_count": 11,
   "id": "8920a1c8-6120-4d4d-b1c2-d2a8b98ae526",
   "metadata": {},
   "outputs": [
    {
     "name": "stdout",
     "output_type": "stream",
     "text": [
      "[[[164 166 166]\n",
      "  [171 173 173]\n",
      "  [136 138 138]\n",
      "  ...\n",
      "  [145 147 148]\n",
      "  [131 133 134]\n",
      "  [121 123 124]]\n",
      "\n",
      " [[158 160 160]\n",
      "  [171 173 173]\n",
      "  [154 156 156]\n",
      "  ...\n",
      "  [123 125 126]\n",
      "  [124 126 127]\n",
      "  [140 142 143]]\n",
      "\n",
      " [[166 168 168]\n",
      "  [158 160 160]\n",
      "  [145 147 147]\n",
      "  ...\n",
      "  [134 136 137]\n",
      "  [114 116 117]\n",
      "  [127 129 130]]\n",
      "\n",
      " ...\n",
      "\n",
      " [[132 134 135]\n",
      "  [ 76  78  79]\n",
      "  [145 147 148]\n",
      "  ...\n",
      "  [139 146 155]\n",
      "  [144 151 160]\n",
      "  [161 168 177]]\n",
      "\n",
      " [[ 79  78  80]\n",
      "  [122 121 123]\n",
      "  [107 109 110]\n",
      "  ...\n",
      "  [ 96 103 112]\n",
      "  [135 142 151]\n",
      "  [127 134 143]]\n",
      "\n",
      " [[126 125 127]\n",
      "  [148 147 149]\n",
      "  [142 144 145]\n",
      "  ...\n",
      "  [117 124 133]\n",
      "  [168 175 184]\n",
      "  [138 145 154]]]\n"
     ]
    }
   ],
   "source": [
    "# Import thư viện\n",
    "import cv2\n",
    "# Đọc một ảnh (nhan TAB de nhin autocomplete)\n",
    "path= r'C:\\Users\\dangminhvu\\Pictures/anh10.PNG'\n",
    "img = cv2.imread(path)\n",
    "# In thông tin của ảnh\n",
    "print(img)"
   ]
  },
  {
   "cell_type": "code",
   "execution_count": 13,
   "id": "b725cbcd-3e03-4533-a0e0-ae416bcfe348",
   "metadata": {},
   "outputs": [
    {
     "name": "stdout",
     "output_type": "stream",
     "text": [
      "(224, 224, 3)\n",
      "224\n",
      "224\n",
      "3\n"
     ]
    }
   ],
   "source": [
    "# Lấy kích thước\n",
    "print(img.shape)\n",
    "x, y, z = img.shape\n",
    "print(x)\n",
    "print(y)\n",
    "print(z)\n"
   ]
  },
  {
   "cell_type": "code",
   "execution_count": 15,
   "id": "94ed6e69-98a0-49a0-9cb6-d76888279d6f",
   "metadata": {},
   "outputs": [],
   "source": [
    "# Hiển thị ảnh\n",
    "cv2.imshow('Window', img)\n",
    "# Chờ một khoảng thời gian\n",
    "cv2.waitKey(10000)\n",
    "# Đóng window\n",
    "cv2.destroyWindow('Window')"
   ]
  },
  {
   "cell_type": "code",
   "execution_count": 16,
   "id": "e11cb3f6-5dd6-4603-a1b2-f9069b97fb18",
   "metadata": {},
   "outputs": [],
   "source": [
    "import cv2\n",
    "b, g, r = cv2.split(img)\n",
    "cv2.imshow('Window', img)\n",
    "cv2.imshow('Red', r)\n",
    "cv2.imshow('Green', g)\n",
    "cv2.imshow('Blue', b)\n",
    "\n",
    "# Chờ một khoảng thời gian\n",
    "cv2.waitKey(0)\n",
    "# Đóng window\n",
    "cv2.destroyAllWindows()"
   ]
  },
  {
   "cell_type": "code",
   "execution_count": 19,
   "id": "d179c483-1647-4ffd-a2b2-6a21a9c389a9",
   "metadata": {},
   "outputs": [],
   "source": [
    "gray_img = cv2.cvtColor(img, cv2.COLOR_BGR2GRAY)\n",
    "img_2 = cv2.cvtColor(img, cv2.COLOR_BGR2RGB)\n",
    "cv2.imshow('Window', img)\n",
    "cv2.imshow('gray_img', gray_img)\n",
    "cv2.imshow('img_2', img_2)\n",
    "# Chờ một khoảng thời gian\n",
    "cv2.waitKey(0)\n",
    "# Đóng window\n",
    "cv2.destroyAllWindows()"
   ]
  },
  {
   "cell_type": "code",
   "execution_count": 22,
   "id": "1cf032d6-a88d-4534-9ea7-fdec294d8834",
   "metadata": {},
   "outputs": [],
   "source": [
    "# Thay đổi thông số của điểm ảnh\n",
    "height, width, z = img.shape\n",
    "quater_h = height/2\n",
    "quater_w = width/2\n",
    "\n",
    "# geen color\n",
    "green_color = (0,255,0)\n",
    "\n",
    "# copy ảnh\n",
    "img2 = img.copy()\n",
    "\n",
    "# thay đổi màu của góc 1/4 bên trái trên\n",
    "\n",
    "for y in range(int(quater_h)):\n",
    "    for x in range(int(quater_w)):\n",
    "        img2[y, x] = green_color\n",
    "# Hiển thị\n",
    "display('Window', img)\n",
    "display('Window-2', img2)"
   ]
  },
  {
   "cell_type": "code",
   "execution_count": null,
   "id": "8555f2f6-9a25-4624-b208-5e5609271b26",
   "metadata": {},
   "outputs": [],
   "source": []
  }
 ],
 "metadata": {
  "kernelspec": {
   "display_name": "Python 3 (ipykernel)",
   "language": "python",
   "name": "python3"
  },
  "language_info": {
   "codemirror_mode": {
    "name": "ipython",
    "version": 3
   },
   "file_extension": ".py",
   "mimetype": "text/x-python",
   "name": "python",
   "nbconvert_exporter": "python",
   "pygments_lexer": "ipython3",
   "version": "3.12.4"
  }
 },
 "nbformat": 4,
 "nbformat_minor": 5
}
