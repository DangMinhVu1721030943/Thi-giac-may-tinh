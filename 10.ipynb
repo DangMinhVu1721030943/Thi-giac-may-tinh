{
 "cells": [
  {
   "cell_type": "code",
   "execution_count": 1,
   "id": "a5d1b765-f09e-4e1b-9073-bee911163456",
   "metadata": {},
   "outputs": [],
   "source": [
    "from PIL import Image\n",
    "import matplotlib.pyplot as plt\n"
   ]
  },
  {
   "cell_type": "code",
   "execution_count": 3,
   "id": "1fd94661-9a4c-4357-9c08-67f34edacd58",
   "metadata": {},
   "outputs": [],
   "source": [
    "my_path = r'C:\\Users\\dangminhvu\\Pictures/anh3.PNG'"
   ]
  },
  {
   "cell_type": "code",
   "execution_count": 5,
   "id": "e17ecbf7-94c5-4eb7-b052-8cc85b513635",
   "metadata": {},
   "outputs": [],
   "source": [
    "im = Image.open(my_path)"
   ]
  },
  {
   "cell_type": "code",
   "execution_count": 22,
   "id": "a3470135-87ff-4902-89fa-d3228442077c",
   "metadata": {},
   "outputs": [
    {
     "name": "stdout",
     "output_type": "stream",
     "text": [
      "[(180.98064516129034, 71.26129032258066), (150.50645161290322, 74.4451612903226), (115.0290322580645, 73.08064516129033), (73.63870967741936, 79.90322580645164), (129.58387096774192, 115.38064516129035)]\n"
     ]
    }
   ],
   "source": [
    "\n",
    "# Chuyển đổi backend\n",
    "plt.switch_backend('tkagg')\n",
    "plt.imshow(im)\n",
    "plt.title('Click on the image to sellect points')\n",
    "# Sử dụng hàm ginput để chọn điểm trên ảnh\n",
    "points = plt.ginput(5)\n",
    "print(points)\n",
    "plt.show()"
   ]
  },
  {
   "cell_type": "code",
   "execution_count": 24,
   "id": "3e64cbed-50bc-44a4-aaf3-ffff6b89b6d1",
   "metadata": {},
   "outputs": [],
   "source": [
    "# Vẽ lại các điểm đã chọn bằng dấu * màu đỏ\n",
    "plt.close()\n",
    "plt.imshow(im)\n",
    "for point in points:\n",
    "    x, y = point\n",
    "    plt.plot(x,y, 'r*')\n",
    "plt.show()"
   ]
  },
  {
   "cell_type": "code",
   "execution_count": null,
   "id": "a9d51e6f-9bfd-48a2-9733-f308ead77391",
   "metadata": {},
   "outputs": [],
   "source": []
  }
 ],
 "metadata": {
  "kernelspec": {
   "display_name": "Python 3 (ipykernel)",
   "language": "python",
   "name": "python3"
  },
  "language_info": {
   "codemirror_mode": {
    "name": "ipython",
    "version": 3
   },
   "file_extension": ".py",
   "mimetype": "text/x-python",
   "name": "python",
   "nbconvert_exporter": "python",
   "pygments_lexer": "ipython3",
   "version": "3.12.4"
  }
 },
 "nbformat": 4,
 "nbformat_minor": 5
}
